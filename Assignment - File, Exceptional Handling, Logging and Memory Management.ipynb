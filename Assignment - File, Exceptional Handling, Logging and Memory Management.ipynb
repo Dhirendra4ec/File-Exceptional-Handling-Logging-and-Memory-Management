{
 "cells": [
  {
   "cell_type": "markdown",
   "id": "4bca18e1",
   "metadata": {},
   "source": [
    "Assignment : Files, Exceptional Handling, Logging and\n",
    "Memory Management Questions"
   ]
  },
  {
   "cell_type": "markdown",
   "id": "12738ddb",
   "metadata": {},
   "source": [
    "Que 1. What is the difference between interpreted and compiled languages?\n",
    "\n",
    "ANS : The difference between interpreted and compiled languages centers on how code is executed by the computer:\n",
    "\n",
    "Compiled languages (like C or C++): The source code is translated entirely into machine code (specific to the hardware) by a compiler before execution. This produces an executable file, and the program can run independently of the source code or compiler. Any changes to the code require recompiling the entire program.\n",
    "\n",
    "Interpreted languages (like classic BASIC or JavaScript): The source code is read and executed line by line by an interpreter at runtime. The interpreter must be present every time you run the program, and the code is not converted to machine code ahead of time."
   ]
  },
  {
   "cell_type": "markdown",
   "id": "52a1ea42",
   "metadata": {},
   "source": [
    "Que 2. What is exception handling in Python?\n",
    "\n",
    "ANS : Exception handling in Python is a mechanism that allows you to manage errors that occur during program execution, so your program can respond gracefully instead of crashing. This is essential for building robust and user-friendly applications.\n",
    "\n",
    "Python uses the following blocks for exception handling:\n",
    "\n",
    "try: Contains code that might raise an exception.\n",
    "\n",
    "except: Handles the exception if one occurs in the try block.\n",
    "\n",
    "else (optional): Executes if no exception occurs in the try block.\n",
    "\n",
    "finally (optional): Executes regardless of whether an exception occurred or not—often used for cleanup actions like closing files."
   ]
  },
  {
   "cell_type": "markdown",
   "id": "a8f0ebc6",
   "metadata": {},
   "source": [
    "Que 3.  What is the purpose of the finally block in exception handling?\n",
    "\n",
    "ANS : The purpose of the finally block in Python exception handling is to define a section of code that always executes, regardless of whether an exception was raised or handled in the preceding try or except blocks. This ensures that critical cleanup actions—such as closing files, releasing resources, or disconnecting from databases—are performed no matter what happens during program execution."
   ]
  },
  {
   "cell_type": "markdown",
   "id": "812badf7",
   "metadata": {},
   "source": [
    "Que 4.  What is logging in Python?\n",
    "\n",
    "ANS : Logging in Python refers to the process of recording events, errors, warnings, and informational messages that occur while a program runs. This is accomplished using Python’s built-in logging module, which provides a flexible framework for capturing and storing log messages from your application."
   ]
  },
  {
   "cell_type": "markdown",
   "id": "d34c4380",
   "metadata": {},
   "source": [
    "Que 5. What is the significance of the __del__ method in Python?\n",
    "\n",
    "ANS : The __del__ method in Python is a special method known as a destructor. Its primary significance is to define cleanup actions that should be performed just before an object is destroyed by Python's garbage collector. This often includes releasing external resources such as file handles, network connections, or database connections that the object may hold."
   ]
  },
  {
   "cell_type": "markdown",
   "id": "127c0be2",
   "metadata": {},
   "source": [
    "Que 6. What is the difference between import and from ... import in Python?\n",
    "\n",
    "ANS : \n",
    "- import module:\n",
    "\n",
    "Imports the entire module into your program.\n",
    "\n",
    "To use any function, class, or variable from that module, you must prefix it with the module name.\n",
    "\n",
    "- from module import name:\n",
    "\n",
    "Imports specific functions, classes, or variables directly into your program’s namespace.\n",
    "\n",
    "You can use the imported items directly, without the module prefix."
   ]
  },
  {
   "cell_type": "markdown",
   "id": "25b7473b",
   "metadata": {},
   "source": [
    "Que 7.  How can you handle multiple exceptions in Python?\n",
    "\n",
    "ANS : You can handle multiple exceptions in Python using several approaches, depending on whether you want to handle them together or separately:\n",
    "\n",
    "1. Handling Multiple Exceptions with a Single Block\n",
    "If you want the same code to execute for several exception types, list them as a tuple in a single except clause:"
   ]
  },
  {
   "cell_type": "code",
   "execution_count": null,
   "id": "e33b6a5c",
   "metadata": {},
   "outputs": [
    {
     "name": "stdout",
     "output_type": "stream",
     "text": [
      "Caught an exception: invalid literal for int() with base 10: 'not_a_number'\n"
     ]
    }
   ],
   "source": [
    "try:\n",
    "    # code that may raise multiple exceptions\n",
    "    a = int(\"not_a_number\")  # This will raise a ValueError\n",
    "except (TypeError, ValueError, KeyError) as e:\n",
    "    print(f\"Caught an exception: {e}\")"
   ]
  },
  {
   "cell_type": "markdown",
   "id": "c886b1b7",
   "metadata": {},
   "source": [
    "2. Handling Different Exceptions with Separate Blocks\n",
    "If you need to handle each exception differently, use multiple except clauses:"
   ]
  },
  {
   "cell_type": "code",
   "execution_count": null,
   "id": "84cd5cf3",
   "metadata": {},
   "outputs": [
    {
     "name": "stdout",
     "output_type": "stream",
     "text": [
      "Value error: invalid literal for int() with base 10: 'not_a_number'\n"
     ]
    }
   ],
   "source": [
    "try:\n",
    "    # code that may raise multiple exceptions\n",
    "    a = int(\"not_a_number\")  # This will raise a ValueError\n",
    "except TypeError as te:\n",
    "    print(f\"Type error: {te}\")\n",
    "except ValueError as ve:\n",
    "    print(f\"Value error: {ve}\")"
   ]
  },
  {
   "cell_type": "markdown",
   "id": "cd5d8dbf",
   "metadata": {},
   "source": [
    "3. Conditional Handling Within a Single Block\n",
    "You can also use isinstance() or check exception attributes within a single block to distinguish between exceptions:"
   ]
  },
  {
   "cell_type": "code",
   "execution_count": 7,
   "id": "b8a31f64",
   "metadata": {},
   "outputs": [
    {
     "name": "stdout",
     "output_type": "stream",
     "text": [
      "Cannot divide by zero\n"
     ]
    }
   ],
   "source": [
    "try:\n",
    "    # code that may raise exceptions\n",
    "    result = 10 / 0  # Example: This will raise ZeroDivisionError\n",
    "except (ZeroDivisionError, OverflowError) as e:\n",
    "    if isinstance(e, ZeroDivisionError):\n",
    "        print(\"Cannot divide by zero\")\n",
    "    else:\n",
    "        print(\"Math calculation overflow\")\n"
   ]
  },
  {
   "cell_type": "markdown",
   "id": "86e0fccd",
   "metadata": {},
   "source": [
    "Que 8. What is the purpose of the with statement when handling files in Python?\n",
    "\n",
    "ANS : The purpose of the with statement when handling files in Python is to ensure that files are properly and automatically closed after their operations are completed, even if an error or exception occurs during processing. This provides safer and more reliable resource management compared to manually opening and closing files.\n",
    "\n",
    "Key advantages:\n",
    "\n",
    "Automatic cleanup: The file is closed automatically when the block under the with statement is exited, regardless of whether the block was exited normally or due to an exception.\n",
    "\n",
    "Reduces errors: Eliminates the risk of forgetting to close the file, which can lead to resource leaks or file corruption.\n",
    "\n",
    "Simplifies code: Removes the need for explicit try-finally blocks, making code cleaner and more readable.\n",
    "\n",
    "Exception safety: Ensures resources are released even if an exception is raised within the block."
   ]
  },
  {
   "cell_type": "markdown",
   "id": "6ade5bb2",
   "metadata": {},
   "source": [
    "Que 9. What is the difference between multithreading and multiprocessing?\n",
    "\n",
    "ANS : Multithreading is ideal for tasks where the program spends a lot of time waiting for external resources (I/O-bound), since threads can run concurrently and share data easily. However, due to the GIL, only one thread executes Python bytecode at a time, so it doesn't speed up CPU-heavy tasks.\n",
    "\n",
    "Multiprocessing is best for CPU-bound tasks, as it can fully utilize multiple CPU cores by running separate processes in parallel. Each process has its own memory space, so there is no GIL limitation, but communication between processes is more complex and resource-intensive."
   ]
  },
  {
   "cell_type": "markdown",
   "id": "4cd3ceda",
   "metadata": {},
   "source": [
    "Que 10. What are the advantages of using logging in a program?\n",
    "\n",
    "ANS : Using logging in a Python program offers several important advantages:\n",
    "\n",
    "Error Detection and Root Cause Analysis: Logging captures error messages, stack traces, and contextual information when issues occur, making it much easier to trace and diagnose the source of problems in your code.\n",
    "\n",
    "Debugging and Monitoring: Log messages provide insights into the application's behavior and performance, helping developers monitor execution flow, variable values, and identify potential bottlenecks or abnormal activity.\n",
    "\n",
    "Audit and Compliance: Logging creates a persistent record of significant events, user actions, and system changes, which is essential for security audits and meeting regulatory requirements such as GDPR and PCI-DSS.\n",
    "\n",
    "Reduced Incident Response Time: Well-placed log statements allow for faster identification and resolution of issues by providing detailed information about what happened and when.\n",
    "\n",
    "Performance Monitoring: By logging key parameters like response times and resource usage, developers can analyze and optimize application performance.\n",
    "\n",
    "Alerting and Automation: Logging can be integrated with alerting systems to notify teams when critical errors or unusual patterns are detected, enabling proactive incident management.\n",
    "\n",
    "Customizable and Flexible Output: The logging module supports different log levels (DEBUG, INFO, WARNING, ERROR, CRITICAL), multiple output destinations (console, files, remote servers), and customizable formats including timestamps and severity levels, all of which enhance readability and utility.\n",
    "\n",
    "Centralized and Structured Logging: Logging from all modules can be consolidated, making it easier to manage and analyze logs from complex applications.\n",
    "\n",
    "Compared to using print() statements, logging provides more structure, flexibility, and control, making it an essential tool for professional software development and maintenance."
   ]
  },
  {
   "cell_type": "markdown",
   "id": "61e84d68",
   "metadata": {},
   "source": [
    "Que 11. What is memory management in Python?\n",
    "\n",
    "ANS : Memory management in Python refers to the process by which Python allocates, tracks, and frees memory used by programs, ensuring efficient use of system resources and minimizing memory leaks.\n",
    "\n",
    "Key Components of Python Memory Management\n",
    "Automatic Memory Management:\n",
    "Python handles memory allocation and deallocation automatically, so developers do not need to manage memory manually.\n",
    "\n",
    "Garbage Collection:\n",
    "While reference counting handles most memory cleanup, it cannot resolve circular references (where two or more objects reference each other). Python’s garbage collector periodically scans for such cycles and removes them using generational garbage collection.\n",
    "\n",
    "Efficiency: Automatic memory management allows programs to run efficiently without manual intervention.\n",
    "\n",
    "Safety: Reduces the risk of memory leaks and segmentation faults common in languages with manual memory management.\n",
    "\n",
    "Developer Productivity: Frees developers from worrying about low-level memory details, letting them focus on application logic.\n",
    "\n",
    "In summary, memory management in Python is largely automatic, relying on reference counting, garbage collection, and specialized allocators to ensure efficient and safe use of memory throughout a program’s execution."
   ]
  },
  {
   "cell_type": "markdown",
   "id": "027c6615",
   "metadata": {},
   "source": [
    "Que 12. What are the basic steps involved in exception handling in Python?\n",
    "\n",
    "ANS : The basic steps involved in exception handling in Python are as follows:\n",
    "\n",
    "Try Block:\n",
    "Write the code that might raise an exception inside a try block. Python will attempt to execute this code.\n",
    "\n",
    "Exception Occurrence:\n",
    "If an error occurs while executing the code in the try block, Python creates an exception object containing information about the error and immediately stops executing the rest of the code in that block.\n",
    "\n",
    "Except Block:\n",
    "Control jumps to the corresponding except block. This block contains code to handle the specific exception or a general exception if no specific one is provided. You can have multiple except blocks to handle different exceptions separately.\n",
    "\n",
    "Else Block (Optional):\n",
    "If no exception occurs in the try block, the else block (if present) is executed. This is useful for code that should run only if the try block succeeds without errors.\n",
    "\n",
    "Finally Block (Optional):\n",
    "The finally block, if present, is executed after the try and except blocks, regardless of whether an exception was raised or not. It is typically used for cleanup actions, such as closing files or releasing resources."
   ]
  },
  {
   "cell_type": "markdown",
   "id": "042f96c2",
   "metadata": {},
   "source": [
    "Que 13. Why is memory management important in Python?\n",
    "\n",
    "ANS : Efficiency: Automatic memory management allows programs to run efficiently without manual intervention.\n",
    "\n",
    "Safety: Reduces the risk of memory leaks and segmentation faults common in languages with manual memory management.\n",
    "\n",
    "Developer Productivity: Frees developers from worrying about low-level memory details, letting them focus on application logic."
   ]
  },
  {
   "cell_type": "markdown",
   "id": "9028ceda",
   "metadata": {},
   "source": [
    "Que 14. What is the role of try and except in exception handling?\n",
    "\n",
    "ANS : The try and except blocks are fundamental to exception handling in Python:\n",
    "\n",
    "The try block is used to wrap code that might raise an exception. Python attempts to execute all statements inside the try block. If no error occurs, the except block is skipped and execution continues normally.\n",
    "\n",
    "The except block is used to catch and handle exceptions that occur in the preceding try block. If an error arises, Python stops executing the rest of the try block and immediately jumps to the except block, where you can define how to respond to the error—such as displaying an error message, logging the issue, or taking corrective action. This prevents the program from crashing and allows it to continue running or exit gracefully.\n"
   ]
  },
  {
   "cell_type": "markdown",
   "id": "d676bedf",
   "metadata": {},
   "source": [
    "Que 15. How does Python's garbage collection system work?\n",
    "\n",
    "ANS : Python’s garbage collection system automatically manages memory by identifying and freeing objects that are no longer needed by the program, ensuring efficient use of memory and reducing the risk of memory leaks.\n",
    "\n",
    "How it works:\n",
    "\n",
    "Reference Counting:\n",
    "Every object in Python keeps track of how many references point to it. When an object’s reference count drops to zero (meaning no part of the code can access it), Python immediately deallocates its memory.\n",
    "\n",
    "Generational Garbage Collection:\n",
    "Reference counting alone cannot handle cyclic references (when objects reference each other in a cycle, preventing their reference counts from ever reaching zero). To address this, Python uses a generational garbage collector, which:\n",
    "\n",
    "Divides objects into three “generations” based on how long they have existed.\n",
    "\n",
    "Collects younger objects more frequently, as they are more likely to become unreachable quickly.\n",
    "\n",
    "Periodically scans for and removes cycles using algorithms like mark-and-sweep.\n",
    "\n",
    "Automatic and Manual Control:\n",
    "The garbage collector runs automatically, but you can also manually trigger it using the gc.collect() function from the gc module, which forces a collection cycle to reclaim unused memory.\n",
    "\n",
    "Thresholds and Tuning:\n",
    "The frequency of garbage collection is controlled by thresholds, which determine when each generation should be collected. You can inspect and adjust these thresholds using the gc module."
   ]
  },
  {
   "cell_type": "markdown",
   "id": "9b7cc545",
   "metadata": {},
   "source": [
    "Que 16. What is the purpose of the else block in exception handling?\n",
    "\n",
    "ANS : The purpose of the else block in exception handling in Python is to specify a section of code that should be executed only if no exceptions were raised in the preceding try block. If the try block completes successfully—meaning no errors occur—Python executes the else block immediately after. If an exception is raised, the else block is skipped, and control moves to the appropriate except block.\n",
    "\n",
    "Key reasons for using the else block:\n",
    "\n",
    "Separation of logic: It allows you to clearly separate code that should run only when no exceptions occur from code that handles exceptions. This improves readability and maintainability.\n",
    "\n",
    "Avoids catching unintended exceptions: By placing code that should only run after a successful try outside the try block (in else), you prevent accidentally catching exceptions that weren't intended to be handled by the except block.\n",
    "\n",
    "Precise control: It provides more precise control over the program’s flow, ensuring that certain actions (like further processing or confirmation messages) only happen if everything in the try block succeeded."
   ]
  },
  {
   "cell_type": "markdown",
   "id": "3bd347b0",
   "metadata": {},
   "source": [
    "Que 17. What are the common logging levels in Python?\n",
    "\n",
    "ANS : The common logging levels in Python, in order of increasing severity, are:\n",
    "\n",
    "NOTSET (): The lowest level; used to indicate that no specific logging level is set.\n",
    "\n",
    "DEBUG (): Detailed information, typically of interest only when diagnosing problems.\n",
    "\n",
    "INFO (): Confirmation that things are working as expected.\n",
    "\n",
    "WARNING (): An indication that something unexpected happened, or indicative of some problem in the near future (but the software is still working as expected).\n",
    "\n",
    "ERROR (): Due to a more serious problem, the software has not been able to perform some function.\n",
    "\n",
    "CRITICAL (): A very serious error, indicating that the program itself may be unable to continue running."
   ]
  },
  {
   "cell_type": "markdown",
   "id": "22a9fdb4",
   "metadata": {},
   "source": [
    "Que 18. What is the difference between os.fork() and multiprocessing in Python?\n",
    "\n",
    "ANS : os.fork() is a low-level, Unix-only function that creates a child process as a copy of the parent. It does not work on Windows.\n",
    "\n",
    "The multiprocessing module is a high-level, cross-platform library that abstracts process creation and management. On Unix, it can use fork internally, but can also use spawn or forkserver depending on platform and configuration.\n",
    "\n",
    "multiprocessing.Process is more portable and safer for most Python applications, especially those that need to run on multiple platforms or require features like process pools and inter-process communication."
   ]
  },
  {
   "cell_type": "markdown",
   "id": "a89273d2",
   "metadata": {},
   "source": [
    "Que 19. What is the importance of closing a file in Python?\n",
    "\n",
    "ANS : Releases system resources: Each open file consumes system resources (such as memory and file descriptors). If files are not closed, these resources remain allocated, which can lead to resource leaks and eventually prevent your program or system from opening new files.\n",
    "\n",
    "Ensures data integrity: When writing to a file, data is often buffered in memory before being written to disk. Closing the file flushes any unwritten data, ensuring all changes are saved and preventing data loss or corruption.\n",
    "\n",
    "Prevents file corruption: Unclosed files, especially those opened in write or append mode, may not save all modifications, increasing the risk of file corruption if the program ends unexpectedly.\n",
    "\n",
    "Avoids file access issues: Some operating systems lock open files, meaning other programs or processes cannot access, modify, or delete them until they are properly closed.\n",
    "\n",
    "Good programming practice: Relying on Python's garbage collector to close files is risky, as the timing is unpredictable and may not work consistently across different platforms or Python implementations.\n",
    "\n",
    "In summary, always closing files after use is essential for resource management, data integrity, and robust application behavior in Python."
   ]
  },
  {
   "cell_type": "markdown",
   "id": "88df5a00",
   "metadata": {},
   "source": [
    "Que 20. What is the difference between file.read() and file.readline() in Python?\n",
    "\n",
    "ANS : The difference between file.read() and file.readline() in Python is as follows:\n",
    "\n",
    "file.read()\n",
    "\n",
    "Reads the entire contents of the file (or a specified number of bytes if an argument is given) into a single string.\n",
    "\n",
    "Useful when you want to process the whole file at once.\n",
    "\n",
    "Not memory efficient for large files, as it loads the entire file into memory.\n",
    "\n",
    "file.readline()\n",
    "\n",
    "Reads only one line at a time from the file, returning it as a string (including the newline character at the end).\n",
    "\n",
    "Each call to readline() returns the next line, advancing the file pointer.\n",
    "\n",
    "Memory efficient and ideal for processing large files line by line, since it does not load the entire file into memory."
   ]
  },
  {
   "cell_type": "markdown",
   "id": "52c0ac84",
   "metadata": {},
   "source": [
    "Que 21. What is the logging module in Python used for?\n",
    "\n",
    "ANS : The logging module in Python is used to track and record events that occur while a program is running. It provides a flexible and powerful framework for generating log messages, which can include information about errors, warnings, program execution flow, and other significant events.\n",
    "\n",
    "Key uses of the logging module:\n",
    "\n",
    "Debugging and troubleshooting: Helps developers identify and diagnose issues by capturing detailed error messages and contextual information.\n",
    "\n",
    "Monitoring application behavior: Provides insights into how a program runs, making it easier to understand usage patterns and performance.\n",
    "\n",
    "Audit and compliance: Maintains persistent records of important actions and errors for security and compliance purposes.\n",
    "\n",
    "Flexible output: Allows log messages to be sent to various destinations, such as the console, files, or remote servers, and supports configurable log formats and severity levels (DEBUG, INFO, WARNING, ERROR, CRITICAL).\n",
    "\n",
    "Structured and contextual logging: Supports adding timestamps, severity levels, and other contextual data to log messages, making logs more informative and easier to analyze.\n",
    "\n",
    "The module is highly configurable, supports hierarchical loggers for complex applications, and is widely used as a standard way to manage logging across Python projects."
   ]
  },
  {
   "cell_type": "markdown",
   "id": "97e1a66e",
   "metadata": {},
   "source": [
    "Que 22. What is the os module in Python used for in file handling?\n",
    "\n",
    "ANS : The os module in Python is used for performing a wide range of file handling and file system operations that go beyond basic reading and writing. It provides a direct interface to the underlying operating system, allowing you to:\n",
    "\n",
    "Create, delete, and rename files and directories: Functions like os.remove(), os.rename(), os.mkdir(), and os.rmdir() let you manage files and folders programmatically.\n",
    "\n",
    "Check file existence and properties: Methods such as os.path.exists() check if a file or directory exists, and os.path.getsize() retrieves the size of a file.\n",
    "\n",
    "Work with file paths: The os.path submodule helps in joining, splitting, and manipulating file and directory paths in a way that is compatible across different operating systems.\n",
    "\n",
    "Low-level file operations: Functions like os.open(), os.read(), and os.write() perform low-level byte-based file operations, returning file descriptors instead of file objects, which is useful for advanced or performance-critical tasks.\n",
    "\n",
    "Change and retrieve the current working directory: Functions such as os.chdir() and os.getcwd() let you navigate the file system.\n",
    "\n",
    "Set and change file permissions: You can modify file access permissions using functions like os.chmod()."
   ]
  },
  {
   "cell_type": "markdown",
   "id": "b6611b5d",
   "metadata": {},
   "source": [
    "Que 23. What are the challenges associated with memory management in Python?\n",
    "\n",
    "ANS : Memory Leaks: Occur when objects that are no longer needed are not released from memory, often due to lingering references or reference cycles. Memory leaks lead to gradually increasing memory usage, causing slowdowns or crashes, especially in long-running applications.\n",
    "\n",
    "Circular References: When two or more objects reference each other, Python’s reference counting alone cannot free them. While the garbage collector can detect and clean up most cycles, complex reference patterns or misuse of resources can still cause issues.\n",
    "\n",
    "Unreleased Resources: Forgetting to close files, network connections, or database connections can result in memory not being freed, increasing the program’s memory footprint over time.\n",
    "\n",
    "High Memory Usage with Large Datasets: Loading large datasets or creating too many objects at once can quickly exhaust available memory, leading to performance bottlenecks or crashes. Using memory-inefficient data structures or not leveraging generators and iterators can worsen this problem.\n",
    "\n",
    "External Dependencies: Some third-party libraries may not manage memory efficiently, causing leaks or excessive memory consumption that are hard to track down within your own code.\n",
    "\n",
    "Unoptimized Code: Inefficient algorithms, unnecessary object creation, and poor choice of data structures can increase memory consumption and strain Python’s garbage collector.\n",
    "\n",
    "Limited Manual Control: Python abstracts away most manual memory management, which makes it easier to use but also means developers have less direct control over when and how memory is freed. This can complicate troubleshooting and optimization, especially compared to languages with manual memory management.\n",
    "\n",
    "Garbage Collector Limitations: The garbage collector may not always trigger at optimal times, and in some cases, memory may not be released back to the operating system promptly, especially when handling large numbers of objects or large datasets.\n",
    "\n",
    "Caching Issues: Excessive or improperly managed caching can cause memory usage to grow unexpectedly."
   ]
  },
  {
   "cell_type": "markdown",
   "id": "7d747e90",
   "metadata": {},
   "source": [
    "Que 24.  How do you raise an exception manually in Python?\n",
    "\n",
    "ANS : You can raise an exception manually in Python using the raise keyword, which allows you to signal that an error or exceptional condition has occurred in your code. This is useful for enforcing constraints, validating input, or handling situations where the normal program flow cannot continue."
   ]
  },
  {
   "cell_type": "markdown",
   "id": "f869c066",
   "metadata": {},
   "source": [
    "Que 25. Why is it important to use multithreading in certain applications?\n",
    "\n",
    "ANS : Multithreading is crucial for applications that require high responsiveness, efficient handling of multiple simultaneous tasks, and optimal resource usage, especially when dealing with I/O-bound workloads or interactive user interfaces.\n",
    "\n",
    "Web servers and network applications handling many simultaneous connections\n",
    "\n",
    "GUI applications needing to stay responsive during background operations\n",
    "\n",
    "Programs performing multiple independent I/O operations\n",
    "\n",
    "Real-time data processing and monitoring systems."
   ]
  },
  {
   "cell_type": "markdown",
   "id": "0bdc2fcf",
   "metadata": {},
   "source": [
    "- Practical Questions :"
   ]
  },
  {
   "cell_type": "markdown",
   "id": "614e94c2",
   "metadata": {},
   "source": [
    "1. How can you open a file for writing in Python and write a string to it?"
   ]
  },
  {
   "cell_type": "code",
   "execution_count": 20,
   "id": "a914b0bd",
   "metadata": {},
   "outputs": [],
   "source": [
    "# Method 1:\n",
    "file = open('file.txt', 'w')\n",
    "file.write(\"Hello, This is my Assignment file.\")\n",
    "file.close()\n",
    "# Method 2:\n",
    "with open(\"example.txt\", \"w\") as file:\n",
    "    file.write(\"Hello, This is my Assignment file.\")"
   ]
  },
  {
   "cell_type": "markdown",
   "id": "ec58129d",
   "metadata": {},
   "source": [
    "2. Write a Python program to read the contents of a file and print each line?"
   ]
  },
  {
   "cell_type": "code",
   "execution_count": 21,
   "id": "c3ceb07b",
   "metadata": {},
   "outputs": [
    {
     "name": "stdout",
     "output_type": "stream",
     "text": [
      "Hello, This is my Assignment file.\n"
     ]
    }
   ],
   "source": [
    "file = open('file.txt', 'r')\n",
    "print(file.read())\n",
    "file.close()"
   ]
  },
  {
   "cell_type": "markdown",
   "id": "5dfaf8dd",
   "metadata": {},
   "source": [
    "3. How would you handle a case where the file doesn't exist while trying to open it for reading?"
   ]
  },
  {
   "cell_type": "code",
   "execution_count": 22,
   "id": "3c5ecea4",
   "metadata": {},
   "outputs": [
    {
     "name": "stdout",
     "output_type": "stream",
     "text": [
      "Error: The file does not exist!\n"
     ]
    }
   ],
   "source": [
    "content = ''' \n",
    "example1\n",
    "exmaple2\n",
    "exapmle3\n",
    "'''\n",
    "\n",
    "try:\n",
    "    file = open(\"myfile.txt\", \"r\")\n",
    "    content = file.read()\n",
    "    print(content)\n",
    "    file.close()\n",
    "except FileNotFoundError:\n",
    "    print(\"Error: The file does not exist!\")"
   ]
  },
  {
   "cell_type": "markdown",
   "id": "c223fc73",
   "metadata": {},
   "source": [
    "4. Write a Python script that reads from one file and writes its content to another file?"
   ]
  },
  {
   "cell_type": "code",
   "execution_count": 23,
   "id": "3e300c51",
   "metadata": {},
   "outputs": [
    {
     "name": "stdout",
     "output_type": "stream",
     "text": [
      "Content copied from source.txt to destination.txt.\n"
     ]
    }
   ],
   "source": [
    "# Read from 'source.txt' and write to 'destination.txt'\n",
    "text_content = \"\"\" \n",
    "example1\n",
    "example2\n",
    "example3\n",
    "\"\"\"\n",
    "\n",
    "with open(\"source.txt\", \"w\") as source_file:\n",
    "    source_file.write(text_content)\n",
    "\n",
    "source_file = \"source.txt\"\n",
    "destination_file = \"destination.txt\"\n",
    "\n",
    "try:\n",
    "    with open(source_file, \"r\") as src:\n",
    "        content = src.read()\n",
    "    with open(destination_file, \"w\") as dest:\n",
    "        dest.write(content)\n",
    "    print(f\"Content copied from {source_file} to {destination_file}.\")\n",
    "except FileNotFoundError:\n",
    "    print(f\"Error: {source_file} does not exist.\")\n",
    "except Exception as e:\n",
    "    print(f\"An error occurred: {e}\")\n"
   ]
  },
  {
   "cell_type": "markdown",
   "id": "aa88d330",
   "metadata": {},
   "source": [
    "5. How would you catch and handle division by zero error in Python?"
   ]
  },
  {
   "cell_type": "code",
   "execution_count": 24,
   "id": "db7e323f",
   "metadata": {},
   "outputs": [
    {
     "name": "stdout",
     "output_type": "stream",
     "text": [
      "division by zero\n"
     ]
    }
   ],
   "source": [
    "a = 5\n",
    "b = 0\n",
    "try:\n",
    "    a / b\n",
    "    if b == 0:\n",
    "        print(\"b is zero\")\n",
    "except ZeroDivisionError as e:\n",
    "    print(e)"
   ]
  },
  {
   "cell_type": "markdown",
   "id": "fc5a2f3c",
   "metadata": {},
   "source": [
    "6. Write a Python program that logs an error message to a log file when a division by zero exception occurs?"
   ]
  },
  {
   "cell_type": "code",
   "execution_count": 25,
   "id": "7fe0d75e",
   "metadata": {},
   "outputs": [],
   "source": [
    "import logging\n",
    "logging.basicConfig(filename = \"program1.log\", level = logging.DEBUG)\n",
    "try:\n",
    "    10/0\n",
    "except ZeroDivisionError as e:\n",
    "    logging.error(f\"This is zerodivisionerror handling: {e}\")"
   ]
  },
  {
   "cell_type": "markdown",
   "id": "6a6c7b5b",
   "metadata": {},
   "source": [
    "7. How do you log information at different levels (INFO, ERROR, WARNING) in Python using the logging module?"
   ]
  },
  {
   "cell_type": "code",
   "execution_count": 26,
   "id": "d187bf57",
   "metadata": {},
   "outputs": [],
   "source": [
    "import logging\n",
    "logging.basicConfig(\n",
    "    filename = \"file2.log\",\n",
    "    level = logging.INFO, \n",
    "    format = '%(asctime)s %(levelname)s %(message)s'\n",
    "    )\n",
    "\n",
    "logging.info(f\"This is information about my file\")\n",
    "logging.error(f\"This is an error message in my file\")\n",
    "logging.warning(f\"This is an warning message in my file\")"
   ]
  },
  {
   "cell_type": "markdown",
   "id": "cac6ca24",
   "metadata": {},
   "source": [
    "8. Write a program to handle a file opening error using exception handling?"
   ]
  },
  {
   "cell_type": "code",
   "execution_count": 27,
   "id": "5447297b",
   "metadata": {},
   "outputs": [],
   "source": [
    "try:\n",
    "    file = open(\"example121.txt\",'r')\n",
    "    file.read()\n",
    "except FileNotFoundError as e:\n",
    "    print(\"The following file was not created, please re run the code:\",e)"
   ]
  },
  {
   "cell_type": "markdown",
   "id": "73a820e7",
   "metadata": {},
   "source": [
    "9.  How can you read a file line by line and store its content in a list in Python?"
   ]
  },
  {
   "cell_type": "code",
   "execution_count": 28,
   "id": "b7662c11",
   "metadata": {},
   "outputs": [
    {
     "name": "stdout",
     "output_type": "stream",
     "text": [
      "['This is the example file.\\n', 'This file is for Assignment\\n', 'it,s for reading content line by line\\n', 'it,s for storing content in list\\n']\n"
     ]
    }
   ],
   "source": [
    "with open('example121.txt','w') as file:\n",
    "    file.write(\"This is the example file.\\n\")\n",
    "    file.write(\"This file is for Assignment\\n\")\n",
    "    file.write(\"it,s for reading content line by line\\n\")\n",
    "    file.write(\"it,s for storing content in list\\n\")\n",
    "    file.close()\n",
    "\n",
    "list = []\n",
    "with open(\"example121.txt\", 'r') as file:\n",
    "    for i in file:\n",
    "        list.append(i)\n",
    "    print(list)"
   ]
  },
  {
   "cell_type": "markdown",
   "id": "0eb40a3a",
   "metadata": {},
   "source": [
    "10. How can you append data to an existing file in Python?"
   ]
  },
  {
   "cell_type": "code",
   "execution_count": 29,
   "id": "afbae1a2",
   "metadata": {},
   "outputs": [],
   "source": [
    "with open('example.txt','a') as file:\n",
    "    file.write(\"example4\\n\")\n",
    "    file.write('example5\\n')\n",
    "    file.close()"
   ]
  },
  {
   "cell_type": "markdown",
   "id": "efba8e14",
   "metadata": {},
   "source": [
    "11. Write a Python program that uses a try-except block to handle an error when attempting to access a\n",
    "dictionary key that doesn't exist?"
   ]
  },
  {
   "cell_type": "code",
   "execution_count": 34,
   "id": "fdfa3b2b",
   "metadata": {},
   "outputs": [
    {
     "name": "stdout",
     "output_type": "stream",
     "text": [
      "This is keyvalue error:  'group'\n"
     ]
    }
   ],
   "source": [
    "dict = {'name': 'Mark', 'score': 97, 'age':23,\n",
    "        'name': 'Allice', 'score': 93, 'age':27}\n",
    "\n",
    "try:\n",
    "    dict1 = dict[\"group\"]\n",
    "except KeyError as e:\n",
    "    print(\"This is keyvalue error: \",e)"
   ]
  },
  {
   "cell_type": "markdown",
   "id": "72d6a11a",
   "metadata": {},
   "source": [
    "12. Write a program that demonstrates using multiple except blocks to handle different types of exceptions?"
   ]
  },
  {
   "cell_type": "code",
   "execution_count": null,
   "id": "405a0ed6",
   "metadata": {},
   "outputs": [
    {
     "name": "stdout",
     "output_type": "stream",
     "text": [
      "Handling Multiple error : name 'test' is not defined\n"
     ]
    }
   ],
   "source": [
    "try:\n",
    "    test()\n",
    "    a = 77/0\n",
    "    b = 23/\"22\"\n",
    "except ZeroDivisionError as e:\n",
    "    print(\"Handling Multiple error :\",e)\n",
    "except NameError as e:\n",
    "    print(\"Handling Multiple error :\",e)\n",
    "except TypeError as e:\n",
    "    print(\"Handling Multiple error :\",e)"
   ]
  },
  {
   "cell_type": "markdown",
   "id": "870e8fd1",
   "metadata": {},
   "source": [
    "13. How would you check if a file exists before attempting to read it in Python?"
   ]
  },
  {
   "cell_type": "code",
   "execution_count": 2,
   "id": "0310f2a4",
   "metadata": {},
   "outputs": [
    {
     "name": "stdout",
     "output_type": "stream",
     "text": [
      "Hello, This is my Assignment file.\n",
      "example4\n",
      "example5\n",
      "\n"
     ]
    }
   ],
   "source": [
    "import os\n",
    "\n",
    "file_path = \"example.txt\"\n",
    "\n",
    "if os.path.isfile(file_path):\n",
    "    with open(file_path, \"r\") as file:\n",
    "        content = file.read()\n",
    "        print(content)\n",
    "else:\n",
    "    print(\"Error: The file does not exist.\")"
   ]
  },
  {
   "cell_type": "markdown",
   "id": "c4807a45",
   "metadata": {},
   "source": [
    "14. Write a program that uses the logging module to log both informational and error messages?"
   ]
  },
  {
   "cell_type": "code",
   "execution_count": null,
   "id": "6770d990",
   "metadata": {},
   "outputs": [],
   "source": [
    "import logging\n",
    "\n",
    "logging.basicConfig(\n",
    "    filename='test.log', \n",
    "    level=logging.INFO, \n",
    "    format='%(asctime)s, %(levelname)s %(message)s'\n",
    ")\n",
    "\n",
    "logging.info(\"This is an information message\")\n",
    "logging.error(\"This is an error message\")\n",
    "\n",
    "try:\n",
    "    result = 23 / 0\n",
    "except ZeroDivisionError as e:\n",
    "    logging.error(f\"An error occurred: {e}\")\n"
   ]
  },
  {
   "cell_type": "markdown",
   "id": "04662d3c",
   "metadata": {},
   "source": [
    "15. Write a Python program that prints the content of a file and handles the case when the file is empty?"
   ]
  },
  {
   "cell_type": "code",
   "execution_count": 9,
   "id": "df6d0cbc",
   "metadata": {},
   "outputs": [
    {
     "name": "stdout",
     "output_type": "stream",
     "text": [
      "The file is empty.\n"
     ]
    }
   ],
   "source": [
    "def print_file_content(file_path):\n",
    "    try:\n",
    "        with open(file_path, 'r') as file:\n",
    "            content = file.read()\n",
    "            if content: \n",
    "                print(\"File Content:\")\n",
    "                print(content)\n",
    "            else:\n",
    "                print(\"The file is empty.\")\n",
    "    except FileNotFoundError:\n",
    "        print(f\"The file '{file_path}' does not exist.\")\n",
    "    except Exception as e:\n",
    "        print(f\"An error occurred: {e}\")\n",
    "\n",
    "file_path = 'empty.txt'  \n",
    "print_file_content(file_path)\n"
   ]
  },
  {
   "cell_type": "markdown",
   "id": "0465f826",
   "metadata": {},
   "source": [
    "16. Demonstrate how to use memory profiling to check the memory usage of a small program?"
   ]
  },
  {
   "cell_type": "code",
   "execution_count": 16,
   "id": "9c57b263",
   "metadata": {},
   "outputs": [
    {
     "name": "stdout",
     "output_type": "stream",
     "text": [
      "[85.01953125, 85.01953125, 85.01953125, 85.01953125, 85.01953125]\n"
     ]
    }
   ],
   "source": [
    "from memory_profiler import memory_usage\n",
    "\n",
    "def allocate_memory():\n",
    "    a = [i for i in range(1111)]\n",
    "    b = [i ** 2 for i in range(1111)]\n",
    "    return a, b\n",
    "\n",
    "mem_used = memory_usage(allocate_memory)\n",
    "print(mem_used)\n"
   ]
  },
  {
   "cell_type": "markdown",
   "id": "3fdddeaa",
   "metadata": {},
   "source": [
    "17. Write a Python program to create and write a list of numbers to a file, one number per line?"
   ]
  },
  {
   "cell_type": "code",
   "execution_count": 4,
   "id": "5f12f15c",
   "metadata": {},
   "outputs": [
    {
     "name": "stdout",
     "output_type": "stream",
     "text": [
      "[0, 1, 2, 3, 4, 5, 6, 7, 8, 9]\n",
      "Number written to file: number.txt\n"
     ]
    }
   ],
   "source": [
    "numbers = list(range(10))\n",
    "print(numbers)\n",
    "print(f\"Number written to file: {'number.txt'}\")\n",
    "with open('number.txt','w') as file:\n",
    "    for i in numbers:\n",
    "        file.write(f\"{i}\\n\")\n",
    "\n"
   ]
  },
  {
   "cell_type": "code",
   "execution_count": 3,
   "id": "89e03def",
   "metadata": {},
   "outputs": [
    {
     "name": "stdout",
     "output_type": "stream",
     "text": [
      "Number written to file: number1.txt\n"
     ]
    }
   ],
   "source": [
    "def number_to_file(File_name, nums):\n",
    "    with open('number1.txt','w') as file:\n",
    "        for i in nums:\n",
    "            file.write(f\"{i}\\n\")\n",
    "\n",
    "def main():\n",
    "    nums = list(range(10))\n",
    "    file_name = 'number1.txt'\n",
    "    \n",
    "    number_to_file(file_name, nums)\n",
    "    print(f\"Number written to file: {file_name}\")\n",
    "\n",
    "if __name__ == \"__main__\":\n",
    "    main()\n"
   ]
  },
  {
   "cell_type": "markdown",
   "id": "5b803dde",
   "metadata": {},
   "source": [
    "18. How would you implement a basic logging setup that logs to a file with rotation after 1MB?"
   ]
  },
  {
   "cell_type": "code",
   "execution_count": null,
   "id": "1f12ec5b",
   "metadata": {},
   "outputs": [],
   "source": []
  },
  {
   "cell_type": "markdown",
   "id": "88faa13c",
   "metadata": {},
   "source": [
    "19. Write a program that handles both IndexError and KeyError using a try-except block?"
   ]
  },
  {
   "cell_type": "code",
   "execution_count": 6,
   "id": "b2e912f3",
   "metadata": {},
   "outputs": [
    {
     "name": "stdout",
     "output_type": "stream",
     "text": [
      "IndexError caught: list index out of range\n"
     ]
    }
   ],
   "source": [
    "def handle_errors():\n",
    "    my_list = [10, 20, 30]\n",
    "    my_dict = {'Name': \"Allice\", 'age': 27}\n",
    "\n",
    "    try:\n",
    "        print(\"List element at index 5:\", my_list[5])\n",
    "        \n",
    "        print(\"Dictionary value for key 'course':\", my_dict['course'])\n",
    "\n",
    "    except IndexError as ie:\n",
    "        print(f\"IndexError caught: {ie}\")\n",
    "        \n",
    "    except KeyError as ke:\n",
    "        print(f\"KeyError caught: {ke}\")\n",
    "\n",
    "handle_errors()"
   ]
  },
  {
   "cell_type": "markdown",
   "id": "c8f5799d",
   "metadata": {},
   "source": [
    "20. How would you open a file and read its contents using a context manager in Python?"
   ]
  },
  {
   "cell_type": "code",
   "execution_count": 8,
   "id": "c18efa16",
   "metadata": {},
   "outputs": [
    {
     "name": "stdout",
     "output_type": "stream",
     "text": [
      "Hello, This is my Assignment file.\n",
      "example4\n",
      "example5\n",
      "\n"
     ]
    }
   ],
   "source": [
    "with open('example.txt', 'r') as file:\n",
    "    content = file.read()\n",
    "    print(content)"
   ]
  },
  {
   "cell_type": "markdown",
   "id": "46cc20b0",
   "metadata": {},
   "source": [
    "21. Write a Python program that reads a file and prints the number of occurrences of a specific word?"
   ]
  },
  {
   "cell_type": "code",
   "execution_count": 14,
   "id": "a517dcd7",
   "metadata": {},
   "outputs": [
    {
     "name": "stdout",
     "output_type": "stream",
     "text": [
      "Occurrences of the word 'is': 2\n"
     ]
    }
   ],
   "source": [
    "file_name = input(\"Enter file name: \")\n",
    "search_word = input(\"Enter word to be searched: \")\n",
    "\n",
    "count = 0\n",
    "\n",
    "with open(file_name, 'r') as file:\n",
    "    for line in file:\n",
    "        words = line.split()\n",
    "        for word in words:\n",
    "            if word == search_word:\n",
    "                count += 1\n",
    "\n",
    "print(f\"Occurrences of the word '{search_word}': {count}\")\n"
   ]
  },
  {
   "cell_type": "markdown",
   "id": "50b18a53",
   "metadata": {},
   "source": [
    "22. How can you check if a file is empty before attempting to read its contents?"
   ]
  },
  {
   "cell_type": "code",
   "execution_count": 16,
   "id": "3fc3b6ed",
   "metadata": {},
   "outputs": [
    {
     "name": "stdout",
     "output_type": "stream",
     "text": [
      "File is not empty\n"
     ]
    }
   ],
   "source": [
    "import os\n",
    "\n",
    "file_path = 'example.txt'\n",
    "if os.path.getsize(file_path) == 0:\n",
    "    print(\"File is empty\")\n",
    "else:\n",
    "    print(\"File is not empty\")\n"
   ]
  },
  {
   "cell_type": "markdown",
   "id": "81e6b714",
   "metadata": {},
   "source": [
    "23. Write a Python program that writes to a log file when an error occurs during file handling?"
   ]
  },
  {
   "cell_type": "code",
   "execution_count": 17,
   "id": "dec84e88",
   "metadata": {},
   "outputs": [
    {
     "name": "stdout",
     "output_type": "stream",
     "text": [
      "Hello, This is my Assignment file.\n",
      "example4\n",
      "example5\n",
      "\n"
     ]
    }
   ],
   "source": [
    "import logging\n",
    "\n",
    "logging.basicConfig(\n",
    "    filename='file_handling_errors.log',  \n",
    "    level=logging.ERROR, \n",
    "    format='%(asctime)s - %(levelname)s - %(message)s' \n",
    ")\n",
    "\n",
    "def read_file(file_path):\n",
    "    \"\"\"Read the contents of a file and handle errors.\"\"\"\n",
    "    try:\n",
    "        with open(file_path, 'r') as file:  \n",
    "            contents = file.read()  \n",
    "            print(contents)  \n",
    "    except FileNotFoundError as e:\n",
    "        logging.error(f\"FileNotFoundError: {e}. The file '{file_path}' was not found.\")\n",
    "        print(f\"Error: The file '{file_path}' was not found.\")\n",
    "    except IOError as e:\n",
    "        logging.error(f\"IOError: {e}. An I/O error occurred while reading the file '{file_path}'.\")\n",
    "        print(f\"Error: An I/O error occurred while reading the file '{file_path}'.\")\n",
    "\n",
    "def main():\n",
    "    file_path = input(\"Enter the path to the file: \")  \n",
    "    read_file(file_path) \n",
    "    \n",
    "if __name__ == \"__main__\":\n",
    "    main()\n"
   ]
  }
 ],
 "metadata": {
  "kernelspec": {
   "display_name": "Python 3",
   "language": "python",
   "name": "python3"
  },
  "language_info": {
   "codemirror_mode": {
    "name": "ipython",
    "version": 3
   },
   "file_extension": ".py",
   "mimetype": "text/x-python",
   "name": "python",
   "nbconvert_exporter": "python",
   "pygments_lexer": "ipython3",
   "version": "3.13.3"
  }
 },
 "nbformat": 4,
 "nbformat_minor": 5
}
